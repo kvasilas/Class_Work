{
 "cells": [
  {
   "cell_type": "markdown",
   "metadata": {},
   "source": [
    "## Project Proposal - Kirk Vasilas"
   ]
  },
  {
   "cell_type": "markdown",
   "metadata": {},
   "source": [
    "### Fe 520 Ws Project Proposal\n",
    "\tNames of group members - Kirk Vasilas\n",
    "\tTopic for project - Intergrating Excel for Analytics\n",
    "\tBackground and references - Excel is one of the most useful tools for analyzing data and buisness opperations.  However VBA, the coding element of excel is difficult to work with.  \n",
    "\tPlanned Methodology - \n",
    "\tPlanned Implementation - Testing either pxyll addin to excel or openpyxl and xlwt, python packages to intergrate the two programs.\n",
    "\tSources of data - https://www.xlwings.org/\n",
    "\thttps://www.pyxll.com/\n",
    "\thttps://docs.python.org/3/"
   ]
  },
  {
   "cell_type": "markdown",
   "metadata": {},
   "source": [
    "### Fe 520 Ws Project Proposal\n",
    "\tNames of group members - Kirk Vasilas\n",
    "\tTopic for project - Intergrating Excel for Analytics\n",
    "\tBackground and references - Excel is one of the most useful tools for analyzing data and buisness opperations.  However VBA, the coding element of excel is difficult to work with.  \n",
    "\tPlanned Methodology - Analyze Set list of stock prices using differnt tools in excel and python to determine the option that produces the quickest speed and most efficient results.\n",
    "\tPlanned Implementation - Testing either pxyll addin to excel or openpyxl and xlwt, python packages to intergrate the two programs.\n",
    "\tSources of data - https://www.xlwings.org/\n",
    "\thttps://www.pyxll.com/\n",
    "\thttps://docs.python.org/3/"
   ]
  },
  {
   "cell_type": "code",
   "execution_count": null,
   "metadata": {},
   "outputs": [],
   "source": [
    "#Imported packages\n",
    "import openpyxl \n",
    "import xlsxwriter\n",
    "import xlwt\n",
    "\n",
    "#also test csv using\n",
    "import pandas as pd"
   ]
  }
 ],
 "metadata": {
  "kernelspec": {
   "display_name": "Python 3",
   "language": "python",
   "name": "python3"
  },
  "language_info": {
   "codemirror_mode": {
    "name": "ipython",
    "version": 3
   },
   "file_extension": ".py",
   "mimetype": "text/x-python",
   "name": "python",
   "nbconvert_exporter": "python",
   "pygments_lexer": "ipython3",
   "version": "3.6.5"
  }
 },
 "nbformat": 4,
 "nbformat_minor": 1
}
